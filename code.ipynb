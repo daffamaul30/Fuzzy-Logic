{
  "nbformat": 4,
  "nbformat_minor": 0,
  "metadata": {
    "colab": {
      "name": "Fuzzy",
      "provenance": [],
      "collapsed_sections": [],
      "include_colab_link": true
    },
    "kernelspec": {
      "name": "python3",
      "display_name": "Python 3"
    },
    "accelerator": "GPU"
  },
  "cells": [
    {
      "cell_type": "markdown",
      "metadata": {
        "id": "view-in-github",
        "colab_type": "text"
      },
      "source": [
        "<a href=\"https://colab.research.google.com/github/daffamaulana03/Fuzzy-Logic/blob/master/code.ipynb\" target=\"_parent\"><img src=\"https://colab.research.google.com/assets/colab-badge.svg\" alt=\"Open In Colab\"/></a>"
      ]
    },
    {
      "cell_type": "code",
      "metadata": {
        "id": "gW7v2F26FZfS",
        "colab_type": "code",
        "colab": {}
      },
      "source": [
        "import random\n",
        "import numpy\n",
        "import pandas\n",
        "import csv"
      ],
      "execution_count": 0,
      "outputs": []
    },
    {
      "cell_type": "markdown",
      "metadata": {
        "id": "VsCo15q-f5a7",
        "colab_type": "text"
      },
      "source": [
        "# **BACA DATA**"
      ]
    },
    {
      "cell_type": "code",
      "metadata": {
        "id": "riyxaLzjGFYc",
        "colab_type": "code",
        "colab": {}
      },
      "source": [
        "def readFile():\n",
        "    data = open(\"influencers.csv\", \"r\")\n",
        "    datata = data.readlines()\n",
        "    \n",
        "    array = []\n",
        "\n",
        "\n",
        "    for i in range(1, len(datata)):\n",
        "      array.append(datata[i].replace('\\n','').split(','))\n",
        "    # print(array[1][1])\n",
        "    # print(len(array))\n",
        "    return array"
      ],
      "execution_count": 0,
      "outputs": []
    },
    {
      "cell_type": "markdown",
      "metadata": {
        "id": "yjbUi0etgPOg",
        "colab_type": "text"
      },
      "source": [
        "# **FUZZIFIKASI**"
      ]
    },
    {
      "cell_type": "markdown",
      "metadata": {
        "id": "hWCkRAftAdGD",
        "colab_type": "text"
      },
      "source": [
        "Atribut Followers"
      ]
    },
    {
      "cell_type": "code",
      "metadata": {
        "id": "QGCrYWvkgOBC",
        "colab_type": "code",
        "colab": {}
      },
      "source": [
        "def fuzzificationFollowers():\n",
        "  data = readFile()\n",
        "  followers = []\n",
        "  # FOLLOWERS\n",
        "\n",
        "  # Upper\t: >60K NOT Upper : <=50K\n",
        "  # Middle\t: 40K<=MID<=50K NOT Mid : <=20K & >80K\n",
        "  # Bottom\t: <=20K NOT Bottom : >45K\n",
        "\n",
        "  Upper = 60000\n",
        "  NotUpper = 55000\n",
        "  Middle1 = 40000\n",
        "  Middle2 = 50000\n",
        "  Bottom = 20000\n",
        "  NotBottom = 45000\n",
        "\n",
        "  for i in range(len(data)):\n",
        "    # for j in range(len(data[i])):\n",
        "    x = int(data[i][1])\n",
        "    #UPPER\n",
        "    if (x > Upper):\n",
        "      Up = 1\n",
        "    elif (x <= NotUpper):\n",
        "      Up = 0\n",
        "    else:\n",
        "      Up = round((x-NotUpper)/(Upper-NotUpper),2)\n",
        "\n",
        "    #BOTTOM\n",
        "    if (x <= Bottom):\n",
        "      Bot = 1\n",
        "    elif (x > NotBottom):\n",
        "      Bot = 0\n",
        "    else:\n",
        "      Bot = round((NotBottom-x)/(NotBottom-Bottom),2)\n",
        "\n",
        "    #MIDDLE\n",
        "    if ((x > Middle1) & (x <= Middle2)):\n",
        "      Mid = 1\n",
        "    elif ((x <= Bottom) or (x > Upper)):\n",
        "      Mid = 0\n",
        "    else:\n",
        "      if (x > Middle2):\n",
        "        Mid = round((Upper-x)/(Upper-Middle2),2)\n",
        "      elif (x <= Middle1):\n",
        "        Mid = round((x-Bottom)/(Middle1-Bottom),2) \n",
        "    \n",
        "    fol = []\n",
        "    foll = []\n",
        "    fol.append(Up)\n",
        "    fol.append('upper')\n",
        "    foll.append(fol)\n",
        "    fol = []\n",
        "    fol.append(Mid)\n",
        "    fol.append('middle')\n",
        "    foll.append(fol)\n",
        "    fol = []\n",
        "    fol.append(Bot)\n",
        "    fol.append('bottom')\n",
        "    foll.append(fol)\n",
        "    fol = []\n",
        "    followers.append(foll)\n",
        "  return followers"
      ],
      "execution_count": 0,
      "outputs": []
    },
    {
      "cell_type": "markdown",
      "metadata": {
        "id": "J9aS2qs9Aip-",
        "colab_type": "text"
      },
      "source": [
        "Atribut Engagement Rate"
      ]
    },
    {
      "cell_type": "code",
      "metadata": {
        "id": "ERqqxcW85fcA",
        "colab_type": "code",
        "colab": {}
      },
      "source": [
        "def fuzzificationEngageRate():\n",
        "  data = readFile()\n",
        "  EngageRate = []\n",
        "  # ENGAGEMENT RATE\n",
        "\n",
        "  # High\t: >8 NOT High : <=5\n",
        "  # Average\t: 4<AVG<5 NOT Mid : <=2 & >8\n",
        "  # Low\t: <=2 NOT Low : >4.5\n",
        "  High = 8\n",
        "  NotHigh = 5\n",
        "  Average1 = 4\n",
        "  Average2 = 5\n",
        "  Low = 2\n",
        "  NotLow = 4.5\n",
        "\n",
        "  for i in range(len(data)):\n",
        "    # for j in range(len(data[i])):\n",
        "    x = float(data[i][2])\n",
        "    #HIGH\n",
        "    if (x > High):\n",
        "      Hi = 1\n",
        "    elif (x <= NotHigh):\n",
        "      Hi = 0\n",
        "    else:\n",
        "      Hi = round((x-NotHigh)/(High-NotHigh),2)\n",
        "\n",
        "    #LOW\n",
        "    if (x <= Low):\n",
        "      Lo = 1\n",
        "    elif (x > NotLow):\n",
        "      Lo = 0\n",
        "    else:\n",
        "      Lo = round((NotLow-x)/(NotLow-Low),2)\n",
        "\n",
        "    #AVERAGE\n",
        "    if ((x > Average1) & (x <= Average2)):\n",
        "      Avg = 1\n",
        "    elif ((x <= Low) or (x > High)):\n",
        "      Avg = 0\n",
        "    else:\n",
        "      if (x > Average2):\n",
        "        Avg = round((High-x)/(High-Average2),2)\n",
        "      elif (x <= Average1):\n",
        "        Avg = round((x-Low)/(Average1-Low),2)\n",
        "    \n",
        "    rat = []\n",
        "    rate = []\n",
        "    rat.append(Hi)   #HIGH     (indeks0)\n",
        "    rat.append('high')\n",
        "    rate.append(rat)\n",
        "    rat = []\n",
        "    rat.append(Avg)  #AVERAGE  (indeks1)\n",
        "    rat.append('average')\n",
        "    rate.append(rat)\n",
        "    rat = []\n",
        "    rat.append(Lo)   #LOW      (indeks2)\n",
        "    rat.append('low')\n",
        "    rate.append(rat)\n",
        "    rat = []\n",
        "    EngageRate.append(rate)\n",
        "  \n",
        "  return EngageRate"
      ],
      "execution_count": 0,
      "outputs": []
    },
    {
      "cell_type": "markdown",
      "metadata": {
        "id": "x0Tw5YblHDKh",
        "colab_type": "text"
      },
      "source": [
        "# **RULE INFERENSI**"
      ]
    },
    {
      "cell_type": "code",
      "metadata": {
        "id": "xUjuRLbRHIuG",
        "colab_type": "code",
        "colab": {}
      },
      "source": [
        "def inferensi():\n",
        "  # FOLLOWERS\t| ENGAGEMENT RATE\t|\tSCORE\n",
        "  # Upper\t\t  | High\t\t\t      | Chosen\n",
        "  # Upper\t\t  |  Average\t\t\t  | Chosen\n",
        "  # Upper\t\t  |  Low\t\t\t      | Considered\n",
        "    \n",
        "  # Middle\t\t|  High\t\t\t      | Chosen\n",
        "  # Middle\t\t|  Average\t\t\t  | Considered\n",
        "  # Middle\t\t|  Low\t\t\t      | Rejected\n",
        "\n",
        "  # Bottom\t\t|  High\t\t\t      | Considered\n",
        "  # Bottom\t\t|  Average\t\t\t  | Rejected\n",
        "  # Bottom\t\t|  Low\t\t\t      | Rejected\n",
        "\n",
        "  followers = fuzzificationFollowers()\n",
        "  engageRate = fuzzificationEngageRate()\n",
        "  concs = []\n",
        "\n",
        "  for i in range(len(followers)):\n",
        "    rules = [[followers[i][0],engageRate[i][0]],\n",
        "             [followers[i][0],engageRate[i][1]],\n",
        "             [followers[i][0],engageRate[i][2]],\n",
        "             [followers[i][1],engageRate[i][0]],\n",
        "             [followers[i][1],engageRate[i][1]],\n",
        "             [followers[i][1],engageRate[i][2]],\n",
        "             [followers[i][2],engageRate[i][0]],\n",
        "             [followers[i][2],engageRate[i][1]],\n",
        "             [followers[i][2],engageRate[i][2]]]\n",
        "    \n",
        "    Chosen = []\n",
        "    Considered = []\n",
        "    Rejected = []\n",
        "    for z in range(len(rules)):\n",
        "      if (rules[z][0][1] == 'upper'):\n",
        "        if (rules[z][1][1] == 'high'):\n",
        "          Chosen.append(z)\n",
        "        elif (rules[z][1][1] == 'average'):\n",
        "          Chosen.append(z)\n",
        "        elif (rules[z][1][1] == 'low'):\n",
        "          Considered.append(z)\n",
        "\n",
        "      elif (rules[z][0][1] == 'middle'):\n",
        "        if (rules[z][1][1] == 'high'):\n",
        "          Chosen.append(z)\n",
        "        elif (rules[z][1][1] == 'average'):\n",
        "          Considered.append(z)\n",
        "        elif (rules[z][1][1] == 'low'):\n",
        "          Rejected.append(z)\n",
        "\n",
        "      elif (rules[z][0][1] == 'bottom'):\n",
        "        if (rules[z][1][1] == 'high'):\n",
        "          Considered.append(z)\n",
        "        elif (rules[z][1][1] == 'average'):\n",
        "          Rejected.append(z)\n",
        "        elif (rules[z][1][1] == 'low'):\n",
        "          Rejected.append(z)\n",
        "    \n",
        "    for x in range(len(rules)):\n",
        "      minn = min(rules[x])\n",
        "      rules[x].append(minn)\n",
        "\n",
        "    ch = max(rules[Chosen[0]][2][0],rules[Chosen[1]][2][0],rules[Chosen[2]][2][0])\n",
        "    co = max(rules[Considered[0]][2][0],rules[Considered[1]][2][0],rules[Considered[2]][2][0])\n",
        "    re = max(rules[Rejected[0]][2][0],rules[Rejected[1]][2][0],rules[Rejected[2]][2][0])\n",
        "    conc = []\n",
        "    conc.append(ch)\n",
        "    conc.append(co)\n",
        "    conc.append(re)\n",
        "    concs.append(conc)\n",
        "  # print(\"Ch\",Chosen)\n",
        "  # print(\"Co\",Considered)\n",
        "  # print(\"Re\",Rejected)\n",
        "\n",
        "\n",
        "    \n",
        "  # print(\"HASIL Inferensi\")\n",
        "  # for k in range(len(concs)):\n",
        "  #     print(concs[k])\n",
        "  return concs\n"
      ],
      "execution_count": 0,
      "outputs": []
    },
    {
      "cell_type": "markdown",
      "metadata": {
        "id": "8KQrsw2Kl-Z6",
        "colab_type": "text"
      },
      "source": [
        "# **DEFUZZIFIKASI**"
      ]
    },
    {
      "cell_type": "markdown",
      "metadata": {
        "id": "4D30lF8vo4Fo",
        "colab_type": "text"
      },
      "source": [
        "Using Takagi-Sugeno-style (constant defuzzification)"
      ]
    },
    {
      "cell_type": "code",
      "metadata": {
        "id": "wmofh8Sxl6qt",
        "colab_type": "code",
        "colab": {}
      },
      "source": [
        "def defuzzification():\n",
        "  inf = inferensi()\n",
        "  hasilDef = []\n",
        "\n",
        "  Chosen = 50\n",
        "  Considered = 70\n",
        "  Rejected = 100\n",
        "\n",
        "  for i in range(len(inf)):\n",
        "    Z = (100*inf[i][0])+(70*inf[i][1])+(50*inf[i][2])\n",
        "    hasilDef.append(round(Z/sum(inf[i]),2))\n",
        "\n",
        "  # for k in range(len(hasilDef)):\n",
        "    # print(hasilDef[k])\n",
        "\n",
        "  return hasilDef"
      ],
      "execution_count": 0,
      "outputs": []
    },
    {
      "cell_type": "markdown",
      "metadata": {
        "id": "DMTkQl3tmr8e",
        "colab_type": "text"
      },
      "source": [
        "# **SORTING**"
      ]
    },
    {
      "cell_type": "markdown",
      "metadata": {
        "id": "pDUGvfoe0LU1",
        "colab_type": "text"
      },
      "source": [
        "Menentukan 20 Influencer Terbaik"
      ]
    },
    {
      "cell_type": "code",
      "metadata": {
        "id": "MwJ7u6TlmuPo",
        "colab_type": "code",
        "colab": {}
      },
      "source": [
        "def BestInfluencer():\n",
        "  defuzzi = defuzzification()\n",
        "  data = readFile()\n",
        "  \n",
        "  bestt = []\n",
        "\n",
        "  ngurut = numpy.argsort(defuzzi)[::-1]\n",
        "  for i in range(20):\n",
        "    best = []\n",
        "    best.append(data[ngurut[i]][0])\n",
        "    bestt.append(best)\n",
        "  for k in range(20):\n",
        "    bestt[k].insert(0,k+1)\n",
        "  for j in range(20):\n",
        "    print(j+1,data[ngurut[j]])\n",
        "  print(len(bestt))\n",
        "  return bestt"
      ],
      "execution_count": 0,
      "outputs": []
    },
    {
      "cell_type": "markdown",
      "metadata": {
        "id": "CV1w_1a8txBd",
        "colab_type": "text"
      },
      "source": [
        "# **WRITE TO CSV**"
      ]
    },
    {
      "cell_type": "code",
      "metadata": {
        "id": "-5GaNNyEt0NH",
        "colab_type": "code",
        "colab": {
          "base_uri": "https://localhost:8080/",
          "height": 370
        },
        "outputId": "8723ee72-b17c-47a6-ecee-ede4c0a45405"
      },
      "source": [
        "def writeCSV():\n",
        "  best = BestInfluencer()\n",
        "  f = open('chosen.csv', 'w')\n",
        "  w = csv.writer(f)\n",
        "  w.writerow(('No.','Nomor Record'))\n",
        "  w.writerows(best)\n",
        "\n",
        "writeCSV()"
      ],
      "execution_count": 111,
      "outputs": [
        {
          "output_type": "stream",
          "text": [
            "1 ['13', '90773', '6.7']\n",
            "2 ['72', '61456', '4.6']\n",
            "3 ['11', '95117', '6.6']\n",
            "4 ['59', '58987', '6.7']\n",
            "5 ['60', '58403', '5.2']\n",
            "6 ['41', '81909', '3.6']\n",
            "7 ['75', '94551', '3.0']\n",
            "8 ['25', '77585', '2.7']\n",
            "9 ['19', '55217', '4.9']\n",
            "10 ['2', '38237', '5.8']\n",
            "11 ['53', '56257', '3.2']\n",
            "12 ['39', '9890', '9.4']\n",
            "13 ['61', '53701', '4.5']\n",
            "14 ['74', '22394', '6.3']\n",
            "15 ['93', '27657', '5.5']\n",
            "16 ['100', '15788', '6.8']\n",
            "17 ['76', '39175', '3.3']\n",
            "18 ['67', '31642', '3.4']\n",
            "19 ['48', '19925', '6.5']\n",
            "20 ['36', '30419', '3.3']\n",
            "20\n"
          ],
          "name": "stdout"
        }
      ]
    }
  ]
}