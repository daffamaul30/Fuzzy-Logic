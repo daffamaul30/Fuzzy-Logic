{
  "nbformat": 4,
  "nbformat_minor": 0,
  "metadata": {
    "colab": {
      "name": "Fuzzy",
      "provenance": [],
      "include_colab_link": true
    },
    "kernelspec": {
      "name": "python3",
      "display_name": "Python 3"
    },
    "accelerator": "GPU"
  },
  "cells": [
    {
      "cell_type": "markdown",
      "metadata": {
        "id": "view-in-github",
        "colab_type": "text"
      },
      "source": [
        "<a href=\"https://colab.research.google.com/github/daffamaulana03/Fuzzy-Logic/blob/master/code.ipynb\" target=\"_parent\"><img src=\"https://colab.research.google.com/assets/colab-badge.svg\" alt=\"Open In Colab\"/></a>"
      ]
    },
    {
      "cell_type": "code",
      "metadata": {
        "id": "gW7v2F26FZfS",
        "colab_type": "code",
        "colab": {}
      },
      "source": [
        "import random\n",
        "import numpy\n",
        "import pandas"
      ],
      "execution_count": 0,
      "outputs": []
    },
    {
      "cell_type": "markdown",
      "metadata": {
        "id": "VsCo15q-f5a7",
        "colab_type": "text"
      },
      "source": [
        "# **BACA DATA**"
      ]
    },
    {
      "cell_type": "code",
      "metadata": {
        "id": "riyxaLzjGFYc",
        "colab_type": "code",
        "colab": {}
      },
      "source": [
        "def readFile():\n",
        "    data = open(\"influencers.csv\", \"r\")\n",
        "    datata = data.readlines()\n",
        "    \n",
        "    array = []\n",
        "\n",
        "\n",
        "    for i in range(1, len(datata)):\n",
        "      array.append(datata[i].replace('\\n','').split(','))\n",
        "    # print(array[1][1])\n",
        "    # print(len(array))\n",
        "    return array"
      ],
      "execution_count": 0,
      "outputs": []
    },
    {
      "cell_type": "markdown",
      "metadata": {
        "id": "yjbUi0etgPOg",
        "colab_type": "text"
      },
      "source": [
        "# **FUZZIFIKASI**"
      ]
    },
    {
      "cell_type": "markdown",
      "metadata": {
        "id": "hWCkRAftAdGD",
        "colab_type": "text"
      },
      "source": [
        "Atribut Followers"
      ]
    },
    {
      "cell_type": "code",
      "metadata": {
        "id": "QGCrYWvkgOBC",
        "colab_type": "code",
        "colab": {
          "base_uri": "https://localhost:8080/",
          "height": 202
        },
        "outputId": "b40e5177-0191-4e8a-f32c-fd4141271a3d"
      },
      "source": [
        "def fuzzificationFollowers():\n",
        "  data = readFile()\n",
        "  followers = []\n",
        "  # FOLLOWERS\n",
        "\n",
        "  # Upper\t: >80K NOT Upper : <=55K\n",
        "  # Middle\t: 40K<=MID<=50K NOT Mid : <=20K & >80K\n",
        "  # Bottom\t: <=20K NOT Bottom : >45K\n",
        "\n",
        "  Upper = 80000\n",
        "  NotUpper = 55000\n",
        "  Middle1 = 40000\n",
        "  Middle2 = 50000\n",
        "  Bottom = 20000\n",
        "  NotBottom = 45000\n",
        "\n",
        "  for i in range(10):\n",
        "    # for j in range(len(data[i])):\n",
        "    x = int(data[i][1])\n",
        "    #UPPER\n",
        "    if (x > Upper):\n",
        "      Up = 1\n",
        "    elif (x <= NotUpper):\n",
        "      Up = 0\n",
        "    else:\n",
        "      Up = (x-NotUpper)/(Upper-NotUpper)\n",
        "\n",
        "    #BOTTOM\n",
        "    if (x <= Bottom):\n",
        "      Bot = 1\n",
        "    elif (x > NotBottom):\n",
        "      Bot = 0\n",
        "    else:\n",
        "      Bot = (NotBottom-x)/(NotBottom-Bottom)\n",
        "\n",
        "    #MIDDLE\n",
        "    if ((x > Middle1) & (x <= Middle2)):\n",
        "      Mid = 1\n",
        "    elif ((x <= Bottom) or (x > Upper)):\n",
        "      Mid = 0\n",
        "    else:\n",
        "      if (x > Middle2):\n",
        "        Mid = (Upper-x)/(Upper-Middle2)\n",
        "      elif (x <= Middle1):\n",
        "        Mid = (x-Bottom)/(Middle1-Bottom)\n",
        "    # print(i+1,Up)\n",
        "    # print(i+1,Mid)\n",
        "    # print(i+1,Bot)  \n",
        "    foll = []\n",
        "    foll.append(Up)\n",
        "    foll.append(Mid)\n",
        "    foll.append(Bot)\n",
        "\n",
        "    followers.append(foll)\n",
        "  return followers\n",
        "fuzzificationFollowers()"
      ],
      "execution_count": 20,
      "outputs": [
        {
          "output_type": "stream",
          "text": [
            "100\n"
          ],
          "name": "stdout"
        },
        {
          "output_type": "execute_result",
          "data": {
            "text/plain": [
              "[[0, 0, 1],\n",
              " [0, 0.91185, 0.27052],\n",
              " [0, 0, 1],\n",
              " [0, 1, 0.04596],\n",
              " [0, 0, 1],\n",
              " [0, 0.2025, 0.838],\n",
              " [0, 1, 0.00652],\n",
              " [0, 0, 1],\n",
              " [0, 0, 1],\n",
              " [0, 0, 1]]"
            ]
          },
          "metadata": {
            "tags": []
          },
          "execution_count": 20
        }
      ]
    },
    {
      "cell_type": "markdown",
      "metadata": {
        "id": "J9aS2qs9Aip-",
        "colab_type": "text"
      },
      "source": [
        "Atribut Engagement Rate"
      ]
    },
    {
      "cell_type": "code",
      "metadata": {
        "id": "ERqqxcW85fcA",
        "colab_type": "code",
        "colab": {
          "base_uri": "https://localhost:8080/",
          "height": 202
        },
        "outputId": "bf1c052b-71ad-4a83-dd1f-0316c3156250"
      },
      "source": [
        "def fuzzificationEngageRate():\n",
        "  data = readFile()\n",
        "  EngageRate = []\n",
        "  # ENGAGEMENT RATE\n",
        "\n",
        "  # High\t: >8 NOT High : <=5.5\n",
        "  # Average\t: 4<AVG<5 NOT Mid : <=2 & >8\n",
        "  # Low\t: <=2 NOT Low : >4.5\n",
        "  High = 8\n",
        "  NotHigh = 5.5\n",
        "  Average1 = 4\n",
        "  Average2 = 5\n",
        "  Low = 2\n",
        "  NotLow = 4.5\n",
        "\n",
        "  for i in range(10):\n",
        "    # for j in range(len(data[i])):\n",
        "    x = float(data[i][2])\n",
        "    #HIGH\n",
        "    if (x > High):\n",
        "      Hi = 1\n",
        "    elif (x <= NotHigh):\n",
        "      Hi = 0\n",
        "    else:\n",
        "      Hi = (x-NotHigh)/(High-NotHigh)\n",
        "\n",
        "    #LOW\n",
        "    if (x <= Low):\n",
        "      Lo = 1\n",
        "    elif (x > NotLow):\n",
        "      Lo = 0\n",
        "    else:\n",
        "      Lo = (NotLow-x)/(NotLow-Low)\n",
        "\n",
        "    #AVERAGE\n",
        "    if ((x > Average1) & (x <= Average2)):\n",
        "      Avg = 1\n",
        "    elif ((x <= Low) or (x > High)):\n",
        "      Avg = 0\n",
        "    else:\n",
        "      if (x > Average2):\n",
        "        Avg = (High-x)/(High-Average2)\n",
        "      elif (x <= Average1):\n",
        "        Avg = (x-Low)/(Average1-Low)\n",
        "    # print(i+1,Up)\n",
        "    # print(i+1,Mid)\n",
        "    # print(i+1,Bot)  \n",
        "    rate = []\n",
        "    rate.append(Hi)\n",
        "    rate.append(Avg)\n",
        "    rate.append(Lo)\n",
        "\n",
        "    EngageRate.append(rate)\n",
        "  return EngageRate\n",
        "fuzzificationEngageRate()"
      ],
      "execution_count": 19,
      "outputs": [
        {
          "output_type": "stream",
          "text": [
            "100\n"
          ],
          "name": "stdout"
        },
        {
          "output_type": "execute_result",
          "data": {
            "text/plain": [
              "[[0, 0, 1],\n",
              " [0.11999999999999993, 0.7333333333333334, 0],\n",
              " [0, 0, 1],\n",
              " [0, 0, 1],\n",
              " [0, 0.75, 0.4],\n",
              " [0, 0.6499999999999999, 0.4800000000000001],\n",
              " [0, 0, 1],\n",
              " [0, 0.7, 0.44000000000000006],\n",
              " [0, 0, 1],\n",
              " [0, 0.3999999999999999, 0.68]]"
            ]
          },
          "metadata": {
            "tags": []
          },
          "execution_count": 19
        }
      ]
    }
  ]
}