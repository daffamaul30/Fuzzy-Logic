{
  "nbformat": 4,
  "nbformat_minor": 0,
  "metadata": {
    "colab": {
      "name": "Fuzzy",
      "provenance": [],
      "include_colab_link": true
    },
    "kernelspec": {
      "name": "python3",
      "display_name": "Python 3"
    },
    "accelerator": "GPU"
  },
  "cells": [
    {
      "cell_type": "markdown",
      "metadata": {
        "id": "view-in-github",
        "colab_type": "text"
      },
      "source": [
        "<a href=\"https://colab.research.google.com/github/daffamaulana03/Fuzzy-Logic/blob/master/code.ipynb\" target=\"_parent\"><img src=\"https://colab.research.google.com/assets/colab-badge.svg\" alt=\"Open In Colab\"/></a>"
      ]
    },
    {
      "cell_type": "code",
      "metadata": {
        "id": "gW7v2F26FZfS",
        "colab_type": "code",
        "colab": {}
      },
      "source": [
        "import random\n",
        "import numpy\n",
        "import pandas"
      ],
      "execution_count": 0,
      "outputs": []
    },
    {
      "cell_type": "markdown",
      "metadata": {
        "id": "VsCo15q-f5a7",
        "colab_type": "text"
      },
      "source": [
        "# **BACA DATA**"
      ]
    },
    {
      "cell_type": "code",
      "metadata": {
        "id": "riyxaLzjGFYc",
        "colab_type": "code",
        "colab": {}
      },
      "source": [
        "def readFile():\n",
        "    data = open(\"influencers.csv\", \"r\")\n",
        "    datata = data.readlines()\n",
        "    \n",
        "    array = []\n",
        "\n",
        "\n",
        "    for i in range(1, len(datata)):\n",
        "      array.append(datata[i].replace('\\n','').split(','))\n",
        "    # print(array[1][1])\n",
        "    # print(len(array))\n",
        "    return array"
      ],
      "execution_count": 0,
      "outputs": []
    },
    {
      "cell_type": "markdown",
      "metadata": {
        "id": "yjbUi0etgPOg",
        "colab_type": "text"
      },
      "source": [
        "# **FUZZIFIKASI**"
      ]
    },
    {
      "cell_type": "markdown",
      "metadata": {
        "id": "hWCkRAftAdGD",
        "colab_type": "text"
      },
      "source": [
        "Atribut Followers"
      ]
    },
    {
      "cell_type": "code",
      "metadata": {
        "id": "QGCrYWvkgOBC",
        "colab_type": "code",
        "colab": {
          "base_uri": "https://localhost:8080/",
          "height": 34
        },
        "outputId": "8e77d287-17e8-4fca-d7f8-acd263b96c1a"
      },
      "source": [
        "def fuzzificationFollowers():\n",
        "  data = readFile()\n",
        "  followers = []\n",
        "  # FOLLOWERS\n",
        "\n",
        "  # Upper\t: >80K NOT Upper : <=55K\n",
        "  # Middle\t: 40K<=MID<=50K NOT Mid : <=20K & >80K\n",
        "  # Bottom\t: <=20K NOT Bottom : >45K\n",
        "\n",
        "  Upper = 80000\n",
        "  NotUpper = 55000\n",
        "  Middle1 = 40000\n",
        "  Middle2 = 50000\n",
        "  Bottom = 20000\n",
        "  NotBottom = 45000\n",
        "\n",
        "  for i in range(5):\n",
        "    # for j in range(len(data[i])):\n",
        "    x = int(data[i][1])\n",
        "    #UPPER\n",
        "    if (x > Upper):\n",
        "      Up = 1\n",
        "    elif (x <= NotUpper):\n",
        "      Up = 0\n",
        "    else:\n",
        "      Up = round((x-NotUpper)/(Upper-NotUpper),2)\n",
        "\n",
        "    #BOTTOM\n",
        "    if (x <= Bottom):\n",
        "      Bot = 1\n",
        "    elif (x > NotBottom):\n",
        "      Bot = 0\n",
        "    else:\n",
        "      Bot = round((NotBottom-x)/(NotBottom-Bottom),2)\n",
        "\n",
        "    #MIDDLE\n",
        "    if ((x > Middle1) & (x <= Middle2)):\n",
        "      Mid = 1\n",
        "    elif ((x <= Bottom) or (x > Upper)):\n",
        "      Mid = 0\n",
        "    else:\n",
        "      if (x > Middle2):\n",
        "        Mid = round((Upper-x)/(Upper-Middle2),2)\n",
        "      elif (x <= Middle1):\n",
        "        Mid = round((x-Bottom)/(Middle1-Bottom),2)\n",
        "    # print(i+1,Up)\n",
        "    # print(i+1,Mid)\n",
        "    # print(i+1,Bot)  \n",
        "    foll = []\n",
        "    foll.append(Up)\n",
        "    foll.append(Mid)\n",
        "    foll.append(Bot)\n",
        "\n",
        "    followers.append(foll)\n",
        "  return followers\n",
        "fuzzificationFollowers()"
      ],
      "execution_count": 60,
      "outputs": [
        {
          "output_type": "execute_result",
          "data": {
            "text/plain": [
              "[[0, 0, 1], [0, 0.91, 0.27], [0, 0, 1], [0, 1, 0.05], [0, 0, 1]]"
            ]
          },
          "metadata": {
            "tags": []
          },
          "execution_count": 60
        }
      ]
    },
    {
      "cell_type": "markdown",
      "metadata": {
        "id": "J9aS2qs9Aip-",
        "colab_type": "text"
      },
      "source": [
        "Atribut Engagement Rate"
      ]
    },
    {
      "cell_type": "code",
      "metadata": {
        "id": "ERqqxcW85fcA",
        "colab_type": "code",
        "colab": {
          "base_uri": "https://localhost:8080/",
          "height": 34
        },
        "outputId": "f92a09c8-5802-417f-e849-c07274de73cf"
      },
      "source": [
        "def fuzzificationEngageRate():\n",
        "  data = readFile()\n",
        "  EngageRate = []\n",
        "  # ENGAGEMENT RATE\n",
        "\n",
        "  # High\t: >8 NOT High : <=5.5\n",
        "  # Average\t: 4<AVG<5 NOT Mid : <=2 & >8\n",
        "  # Low\t: <=2 NOT Low : >4.5\n",
        "  High = 8\n",
        "  NotHigh = 5.5\n",
        "  Average1 = 4\n",
        "  Average2 = 5\n",
        "  Low = 2\n",
        "  NotLow = 4.5\n",
        "\n",
        "  for i in range(5):\n",
        "    # for j in range(len(data[i])):\n",
        "    x = float(data[i][2])\n",
        "    #HIGH\n",
        "    if (x > High):\n",
        "      Hi = 1\n",
        "    elif (x <= NotHigh):\n",
        "      Hi = 0\n",
        "    else:\n",
        "      Hi = round((x-NotHigh)/(High-NotHigh),2)\n",
        "\n",
        "    #LOW\n",
        "    if (x <= Low):\n",
        "      Lo = 1\n",
        "    elif (x > NotLow):\n",
        "      Lo = 0\n",
        "    else:\n",
        "      Lo = round((NotLow-x)/(NotLow-Low),2)\n",
        "\n",
        "    #AVERAGE\n",
        "    if ((x > Average1) & (x <= Average2)):\n",
        "      Avg = 1\n",
        "    elif ((x <= Low) or (x > High)):\n",
        "      Avg = 0\n",
        "    else:\n",
        "      if (x > Average2):\n",
        "        Avg = round((High-x)/(High-Average2),2)\n",
        "      elif (x <= Average1):\n",
        "        Avg = round((x-Low)/(Average1-Low),2)\n",
        "    # print(i+1,Up)\n",
        "    # print(i+1,Mid)\n",
        "    # print(i+1,Bot)  \n",
        "    rate = []\n",
        "    rate.append(Hi)\n",
        "    rate.append(Avg)\n",
        "    rate.append(Lo)\n",
        "\n",
        "    EngageRate.append(rate)\n",
        "  return EngageRate\n",
        "fuzzificationEngageRate()"
      ],
      "execution_count": 59,
      "outputs": [
        {
          "output_type": "execute_result",
          "data": {
            "text/plain": [
              "[[0, 0, 1], [0.12, 0.73, 0], [0, 0, 1], [0, 0, 1], [0, 0.75, 0.4]]"
            ]
          },
          "metadata": {
            "tags": []
          },
          "execution_count": 59
        }
      ]
    },
    {
      "cell_type": "markdown",
      "metadata": {
        "id": "x0Tw5YblHDKh",
        "colab_type": "text"
      },
      "source": [
        "# **INFERENSI**"
      ]
    },
    {
      "cell_type": "code",
      "metadata": {
        "id": "xUjuRLbRHIuG",
        "colab_type": "code",
        "colab": {
          "base_uri": "https://localhost:8080/",
          "height": 118
        },
        "outputId": "cca3767e-22e8-401c-c282-e220fc5572d1"
      },
      "source": [
        "def inferensi():\n",
        "  # FOLLOWERS\t| ENGAGEMENT RATE\t|\tSCORE\n",
        "  # Upper\t\t  | High\t\t\t      | medium\n",
        "  # Upper\t\t  |  Average\t\t\t  | medium\n",
        "  # Upper\t\t  |  Low\t\t\t      | micro\n",
        "    \n",
        "  # Middle\t\t|  High\t\t\t      | medium\n",
        "  # Middle\t\t|  Average\t\t\t  | micro\n",
        "  # Middle\t\t|  Low\t\t\t      | micro\n",
        "\n",
        "  # Bottom\t\t|  High\t\t\t      | micro\n",
        "  # Bottom\t\t|  Average\t\t\t  | micro\n",
        "  # Bottom\t\t|  Low\t\t\t      | nano\n",
        "\n",
        "  followers = fuzzificationFollowers()\n",
        "  engageRate = fuzzificationEngageRate()\n",
        "  concs = []\n",
        "\n",
        "  for i in range(len(followers)):\n",
        "    rules = [[followers[i][0],engageRate[i][0]],\n",
        "             [followers[i][0],engageRate[i][1]],\n",
        "             [followers[i][0],engageRate[i][2]],\n",
        "             [followers[i][1],engageRate[i][0]],\n",
        "             [followers[i][1],engageRate[i][1]],\n",
        "             [followers[i][1],engageRate[i][2]],\n",
        "             [followers[i][2],engageRate[i][0]],\n",
        "             [followers[i][2],engageRate[i][1]],\n",
        "             [followers[i][2],engageRate[i][2]]]\n",
        "\n",
        "    for j in range(len(rules)):\n",
        "      minn = min(rules[j])\n",
        "      rules[j].append(minn)\n",
        "    pilih = [[rules[0][2],rules[1][2],rules[3][2]],\n",
        "             [rules[2][2],rules[4][2],rules[5][2],rules[6][2],rules[7][2]],\n",
        "             [rules[8][2]]]\n",
        "    \n",
        "    medium = max(pilih[0])\n",
        "    micro = max(pilih[1])\n",
        "    nano = max(pilih[2])\n",
        "    conc = []\n",
        "    conc.append(medium)\n",
        "    conc.append(micro)\n",
        "    conc.append(nano)\n",
        "    concs.append(conc)\n",
        "\n",
        "    # print(\"INI rules nya\")\n",
        "    # for k in range(len(rules)):\n",
        "    #   print(rules[k])\n",
        "  print(\"HASIL Inferensi\")\n",
        "  for k in range(len(concs)):\n",
        "      print(concs[k])\n",
        "\n",
        "inferensi()\n"
      ],
      "execution_count": 61,
      "outputs": [
        {
          "output_type": "stream",
          "text": [
            "HASIL Inferensi\n",
            "[0, 0, 1]\n",
            "[0.12, 0.73, 0]\n",
            "[0, 0, 1]\n",
            "[0, 1, 0.05]\n",
            "[0, 0.75, 0.4]\n"
          ],
          "name": "stdout"
        }
      ]
    },
    {
      "cell_type": "code",
      "metadata": {
        "id": "MlhukE5jbHdT",
        "colab_type": "code",
        "colab": {}
      },
      "source": [
        "# for j in range(3):\n",
        "    #   rules.append(followers[i][0])\n",
        "    # for j in range(3):\n",
        "    #   rules.append(followers[i][1])\n",
        "    # for j in range(3):\n",
        "    #   rules.append(followers[i][2])\n",
        "      \n",
        "    # rules[0].append(engageRate[i][0])\n",
        "    # rules[1].append(engageRate[i][1])\n",
        "    # rules[2].append(engageRate[i][3])"
      ],
      "execution_count": 0,
      "outputs": []
    },
    {
      "cell_type": "markdown",
      "metadata": {
        "id": "8KQrsw2Kl-Z6",
        "colab_type": "text"
      },
      "source": [
        "# **DEFUZZIFIKASI**"
      ]
    },
    {
      "cell_type": "markdown",
      "metadata": {
        "id": "4D30lF8vo4Fo",
        "colab_type": "text"
      },
      "source": [
        "Using Takagi-Sugeno-style"
      ]
    },
    {
      "cell_type": "code",
      "metadata": {
        "id": "wmofh8Sxl6qt",
        "colab_type": "code",
        "colab": {}
      },
      "source": [
        "def defuzzification():\n",
        "  inf = inferensi()\n",
        "\n",
        "  for i in range(len(inferensi)):\n",
        "    \n"
      ],
      "execution_count": 0,
      "outputs": []
    },
    {
      "cell_type": "markdown",
      "metadata": {
        "id": "DMTkQl3tmr8e",
        "colab_type": "text"
      },
      "source": [
        "# **SORTING**"
      ]
    },
    {
      "cell_type": "code",
      "metadata": {
        "id": "MwJ7u6TlmuPo",
        "colab_type": "code",
        "colab": {}
      },
      "source": [
        "def sort():\n",
        "  "
      ],
      "execution_count": 0,
      "outputs": []
    }
  ]
}